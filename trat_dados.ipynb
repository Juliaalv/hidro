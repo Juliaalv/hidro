{
 "cells": [
  {
   "cell_type": "markdown",
   "metadata": {},
   "source": [
    "### Trabalho Hidroelétrica\n",
    "\n",
    "- Código da Estação:  65925770\n",
    "- Nome da Estação: SÍTIO SÃO JOÃO (PINHEIRO JUSANTE)\n",
    "- Tipo da Estação: Fluviométrica"
   ]
  },
  {
   "cell_type": "code",
   "execution_count": 23,
   "metadata": {},
   "outputs": [
    {
     "name": "stderr",
     "output_type": "stream",
     "text": [
      "WARNING: Ignoring invalid distribution -rotobuf (c:\\users\\embrapii\\miniconda3\\lib\\site-packages)\n",
      "WARNING: Ignoring invalid distribution -rotobuf (c:\\users\\embrapii\\miniconda3\\lib\\site-packages)\n",
      "WARNING: Ignoring invalid distribution -rotobuf (c:\\users\\embrapii\\miniconda3\\lib\\site-packages)\n",
      "\n",
      "[notice] A new release of pip is available: 24.2 -> 24.3.1\n",
      "[notice] To update, run: python.exe -m pip install --upgrade pip\n"
     ]
    }
   ],
   "source": [
    "!pip install sweetviz -q"
   ]
  },
  {
   "cell_type": "code",
   "execution_count": 24,
   "metadata": {},
   "outputs": [],
   "source": [
    "import pandas as pd\n",
    "import numpy as np\n",
    "import sweetviz as sv\n"
   ]
  },
  {
   "cell_type": "code",
   "execution_count": 47,
   "metadata": {},
   "outputs": [],
   "source": [
    "df = pd.read_csv('data/65925770_Vazoes.csv', encoding='cp1252', sep=';', skiprows=15)\n",
    "df = df [['Data', 'Maxima', 'Minima', 'Media']]\n",
    "df = df.set_index('Data')"
   ]
  },
  {
   "cell_type": "code",
   "execution_count": 48,
   "metadata": {},
   "outputs": [
    {
     "data": {
      "text/html": [
       "<div>\n",
       "<style scoped>\n",
       "    .dataframe tbody tr th:only-of-type {\n",
       "        vertical-align: middle;\n",
       "    }\n",
       "\n",
       "    .dataframe tbody tr th {\n",
       "        vertical-align: top;\n",
       "    }\n",
       "\n",
       "    .dataframe thead th {\n",
       "        text-align: right;\n",
       "    }\n",
       "</style>\n",
       "<table border=\"1\" class=\"dataframe\">\n",
       "  <thead>\n",
       "    <tr style=\"text-align: right;\">\n",
       "      <th></th>\n",
       "      <th>Maxima</th>\n",
       "      <th>Minima</th>\n",
       "      <th>Media</th>\n",
       "    </tr>\n",
       "    <tr>\n",
       "      <th>Data</th>\n",
       "      <th></th>\n",
       "      <th></th>\n",
       "      <th></th>\n",
       "    </tr>\n",
       "  </thead>\n",
       "  <tbody>\n",
       "    <tr>\n",
       "      <th>01/12/2008</th>\n",
       "      <td>0,3</td>\n",
       "      <td>0,1</td>\n",
       "      <td>0,1645</td>\n",
       "    </tr>\n",
       "    <tr>\n",
       "      <th>01/11/2008</th>\n",
       "      <td>5,5</td>\n",
       "      <td>0,3</td>\n",
       "      <td>1,1667</td>\n",
       "    </tr>\n",
       "    <tr>\n",
       "      <th>01/10/2008</th>\n",
       "      <td>5,5</td>\n",
       "      <td>0,2</td>\n",
       "      <td>1,3129</td>\n",
       "    </tr>\n",
       "    <tr>\n",
       "      <th>01/09/2008</th>\n",
       "      <td>0,5</td>\n",
       "      <td>0,2</td>\n",
       "      <td>0,2733</td>\n",
       "    </tr>\n",
       "    <tr>\n",
       "      <th>01/08/2008</th>\n",
       "      <td>4,4</td>\n",
       "      <td>0,2</td>\n",
       "      <td>0,8806</td>\n",
       "    </tr>\n",
       "    <tr>\n",
       "      <th>...</th>\n",
       "      <td>...</td>\n",
       "      <td>...</td>\n",
       "      <td>...</td>\n",
       "    </tr>\n",
       "    <tr>\n",
       "      <th>01/04/2004</th>\n",
       "      <td>0,3</td>\n",
       "      <td>0,1</td>\n",
       "      <td>0,1333</td>\n",
       "    </tr>\n",
       "    <tr>\n",
       "      <th>01/03/2004</th>\n",
       "      <td>0,2</td>\n",
       "      <td>0,1</td>\n",
       "      <td>0,1323</td>\n",
       "    </tr>\n",
       "    <tr>\n",
       "      <th>01/02/2004</th>\n",
       "      <td>0,3</td>\n",
       "      <td>0,1</td>\n",
       "      <td>0,2086</td>\n",
       "    </tr>\n",
       "    <tr>\n",
       "      <th>01/01/2004</th>\n",
       "      <td>0,6</td>\n",
       "      <td>0,25</td>\n",
       "      <td>0,3581</td>\n",
       "    </tr>\n",
       "    <tr>\n",
       "      <th>01/12/2003</th>\n",
       "      <td>5,5</td>\n",
       "      <td>0,3</td>\n",
       "      <td>1,5387</td>\n",
       "    </tr>\n",
       "  </tbody>\n",
       "</table>\n",
       "<p>61 rows × 3 columns</p>\n",
       "</div>"
      ],
      "text/plain": [
       "           Maxima Minima   Media\n",
       "Data                            \n",
       "01/12/2008    0,3    0,1  0,1645\n",
       "01/11/2008    5,5    0,3  1,1667\n",
       "01/10/2008    5,5    0,2  1,3129\n",
       "01/09/2008    0,5    0,2  0,2733\n",
       "01/08/2008    4,4    0,2  0,8806\n",
       "...           ...    ...     ...\n",
       "01/04/2004    0,3    0,1  0,1333\n",
       "01/03/2004    0,2    0,1  0,1323\n",
       "01/02/2004    0,3    0,1  0,2086\n",
       "01/01/2004    0,6   0,25  0,3581\n",
       "01/12/2003    5,5    0,3  1,5387\n",
       "\n",
       "[61 rows x 3 columns]"
      ]
     },
     "execution_count": 48,
     "metadata": {},
     "output_type": "execute_result"
    }
   ],
   "source": [
    "df = df.dropna()\n",
    "df "
   ]
  },
  {
   "cell_type": "code",
   "execution_count": 49,
   "metadata": {},
   "outputs": [],
   "source": [
    "colunas_para_converter = ['Maxima', 'Minima', 'Media']\n",
    "\n",
    "for coluna in colunas_para_converter:\n",
    "    df[coluna] = df[coluna].str.replace(',', '.').astype(float)"
   ]
  },
  {
   "cell_type": "code",
   "execution_count": 50,
   "metadata": {},
   "outputs": [
    {
     "name": "stdout",
     "output_type": "stream",
     "text": [
      "Vazão Máxima: 5.5\n",
      "Vazão Mínima: 0.1\n",
      "Vazão Média: 0.583406557377049\n",
      "Vazão Firme: 0.1333\n"
     ]
    }
   ],
   "source": [
    "df.index = pd.to_datetime(df.index, dayfirst=True)\n",
    "\n",
    "# Definir o período arbitrário de 10 anos\n",
    "inicio = '2000-01-01'\n",
    "fim = '2010-12-31'\n",
    "\n",
    "df_periodo = df[(df.index >= inicio) & (df.index <= fim)]\n",
    "\n",
    "vazao_maxima = df_periodo['Maxima'].max()\n",
    "vazao_minima = df_periodo['Minima'].min()\n",
    "vazao_media = df_periodo['Media'].mean()\n",
    "\n",
    "vazao_firme = df_periodo['Media'].quantile(0.1)  # Firme como valor que excede 90% do tempo\n",
    "\n",
    "print(f\"Vazão Máxima: {vazao_maxima}\")\n",
    "print(f\"Vazão Mínima: {vazao_minima}\")\n",
    "print(f\"Vazão Média: {vazao_media}\")\n",
    "print(f\"Vazão Firme: {vazao_firme}\")"
   ]
  },
  {
   "cell_type": "code",
   "execution_count": 51,
   "metadata": {},
   "outputs": [],
   "source": [
    "df.to_excel('dados.xlsx', index=False) "
   ]
  }
 ],
 "metadata": {
  "kernelspec": {
   "display_name": "base",
   "language": "python",
   "name": "python3"
  },
  "language_info": {
   "codemirror_mode": {
    "name": "ipython",
    "version": 3
   },
   "file_extension": ".py",
   "mimetype": "text/x-python",
   "name": "python",
   "nbconvert_exporter": "python",
   "pygments_lexer": "ipython3",
   "version": "3.9.15"
  }
 },
 "nbformat": 4,
 "nbformat_minor": 2
}
